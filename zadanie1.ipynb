{
 "cells": [
  {
   "cell_type": "markdown",
   "id": "01103c3a-3582-4a4c-a799-952bc86a75fa",
   "metadata": {},
   "source": [
    "Jakub Informatyka"
   ]
  },
  {
   "cell_type": "code",
   "execution_count": 2,
   "id": "640e025a-648b-41e0-b4b7-2192a7ff29af",
   "metadata": {},
   "outputs": [
    {
     "name": "stdout",
     "output_type": "stream",
     "text": [
      "Hello.DateScience\n"
     ]
    }
   ],
   "source": [
    "print(\"Hello.DateScience\")"
   ]
  },
  {
   "cell_type": "code",
   "execution_count": null,
   "id": "47cb20e5-f3d5-42e2-843b-751ef6d12dd3",
   "metadata": {},
   "outputs": [],
   "source": []
  }
 ],
 "metadata": {
  "kernelspec": {
   "display_name": "anaconda-2024.02-py310",
   "language": "python",
   "name": "conda-env-anaconda-2024.02-py310-py"
  },
  "language_info": {
   "codemirror_mode": {
    "name": "ipython",
    "version": 3
   },
   "file_extension": ".py",
   "mimetype": "text/x-python",
   "name": "python",
   "nbconvert_exporter": "python",
   "pygments_lexer": "ipython3",
   "version": "3.10.14"
  }
 },
 "nbformat": 4,
 "nbformat_minor": 5
}
